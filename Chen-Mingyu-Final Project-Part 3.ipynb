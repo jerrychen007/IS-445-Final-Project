{
 "cells": [
  {
   "cell_type": "markdown",
   "metadata": {},
   "source": [
    "# IS 445 - Final Project: City of Rockford Crime Offenses Analysis"
   ]
  },
  {
   "cell_type": "code",
   "execution_count": 1,
   "metadata": {},
   "outputs": [],
   "source": [
    "%matplotlib inline"
   ]
  },
  {
   "cell_type": "code",
   "execution_count": 2,
   "metadata": {},
   "outputs": [],
   "source": [
    "import pandas as pd\n",
    "import matplotlib.pyplot as pyplot\n",
    "import plotly.graph_objs as go\n",
    "import numpy as np\n",
    "from ipywidgets import interact, interactive, fixed, interact_manual, widgets\n",
    "import seaborn as sns\n",
    "import traitlets\n",
    "import palettable\n",
    "import cufflinks as cf\n",
    "import warnings\n",
    "warnings.filterwarnings('ignore')"
   ]
  },
  {
   "cell_type": "code",
   "execution_count": 3,
   "metadata": {},
   "outputs": [
    {
     "data": {
      "text/html": [
       "<div>\n",
       "<style scoped>\n",
       "    .dataframe tbody tr th:only-of-type {\n",
       "        vertical-align: middle;\n",
       "    }\n",
       "\n",
       "    .dataframe tbody tr th {\n",
       "        vertical-align: top;\n",
       "    }\n",
       "\n",
       "    .dataframe thead th {\n",
       "        text-align: right;\n",
       "    }\n",
       "</style>\n",
       "<table border=\"1\" class=\"dataframe\">\n",
       "  <thead>\n",
       "    <tr style=\"text-align: right;\">\n",
       "      <th></th>\n",
       "      <th>CaseNo</th>\n",
       "      <th>Description</th>\n",
       "      <th>Occurred Date</th>\n",
       "      <th>Occurred Day of Week</th>\n",
       "      <th>Occurred Time</th>\n",
       "      <th>X</th>\n",
       "      <th>Y</th>\n",
       "      <th>Crime Against Code</th>\n",
       "      <th>Crime Against</th>\n",
       "      <th>Group</th>\n",
       "      <th>Beat</th>\n",
       "      <th>Ward</th>\n",
       "    </tr>\n",
       "  </thead>\n",
       "  <tbody>\n",
       "    <tr>\n",
       "      <th>0</th>\n",
       "      <td>16-009615</td>\n",
       "      <td>90C - Disorderly Conduct</td>\n",
       "      <td>2016</td>\n",
       "      <td>1</td>\n",
       "      <td>1006</td>\n",
       "      <td>-89.124354</td>\n",
       "      <td>42.284104</td>\n",
       "      <td>NaN</td>\n",
       "      <td>NaN</td>\n",
       "      <td>NaN</td>\n",
       "      <td>NaN</td>\n",
       "      <td>7.0</td>\n",
       "    </tr>\n",
       "    <tr>\n",
       "      <th>1</th>\n",
       "      <td>16-014351</td>\n",
       "      <td>90C - Disorderly Conduct</td>\n",
       "      <td>2016</td>\n",
       "      <td>5</td>\n",
       "      <td>1906</td>\n",
       "      <td>-89.070417</td>\n",
       "      <td>42.254735</td>\n",
       "      <td>NaN</td>\n",
       "      <td>NaN</td>\n",
       "      <td>NaN</td>\n",
       "      <td>NaN</td>\n",
       "      <td>11.0</td>\n",
       "    </tr>\n",
       "    <tr>\n",
       "      <th>2</th>\n",
       "      <td>16-016247</td>\n",
       "      <td>13B - Simple Assault</td>\n",
       "      <td>2016</td>\n",
       "      <td>2</td>\n",
       "      <td>1550</td>\n",
       "      <td>-89.042083</td>\n",
       "      <td>42.238147</td>\n",
       "      <td>NaN</td>\n",
       "      <td>NaN</td>\n",
       "      <td>NaN</td>\n",
       "      <td>NaN</td>\n",
       "      <td>8.0</td>\n",
       "    </tr>\n",
       "    <tr>\n",
       "      <th>3</th>\n",
       "      <td>16-016181</td>\n",
       "      <td>290 - Destruction/Damage/Vandalism of Property</td>\n",
       "      <td>2016</td>\n",
       "      <td>3</td>\n",
       "      <td>1138</td>\n",
       "      <td>-89.029085</td>\n",
       "      <td>42.241433</td>\n",
       "      <td>NaN</td>\n",
       "      <td>NaN</td>\n",
       "      <td>NaN</td>\n",
       "      <td>NaN</td>\n",
       "      <td>14.0</td>\n",
       "    </tr>\n",
       "    <tr>\n",
       "      <th>4</th>\n",
       "      <td>16-023111</td>\n",
       "      <td>23H - All Other Larceny</td>\n",
       "      <td>2016</td>\n",
       "      <td>6</td>\n",
       "      <td>100</td>\n",
       "      <td>-89.029201</td>\n",
       "      <td>42.211097</td>\n",
       "      <td>NaN</td>\n",
       "      <td>NaN</td>\n",
       "      <td>NaN</td>\n",
       "      <td>NaN</td>\n",
       "      <td>14.0</td>\n",
       "    </tr>\n",
       "    <tr>\n",
       "      <th>...</th>\n",
       "      <td>...</td>\n",
       "      <td>...</td>\n",
       "      <td>...</td>\n",
       "      <td>...</td>\n",
       "      <td>...</td>\n",
       "      <td>...</td>\n",
       "      <td>...</td>\n",
       "      <td>...</td>\n",
       "      <td>...</td>\n",
       "      <td>...</td>\n",
       "      <td>...</td>\n",
       "      <td>...</td>\n",
       "    </tr>\n",
       "    <tr>\n",
       "      <th>200617</th>\n",
       "      <td>20-084708</td>\n",
       "      <td>200 - Arson</td>\n",
       "      <td>2020</td>\n",
       "      <td>0</td>\n",
       "      <td>109</td>\n",
       "      <td>-89.070647</td>\n",
       "      <td>42.253152</td>\n",
       "      <td>PR</td>\n",
       "      <td>PROPERTY</td>\n",
       "      <td>A</td>\n",
       "      <td>RP06</td>\n",
       "      <td>11.0</td>\n",
       "    </tr>\n",
       "    <tr>\n",
       "      <th>200618</th>\n",
       "      <td>20-084477</td>\n",
       "      <td>23F - Theft From Motor Vehicle</td>\n",
       "      <td>2020</td>\n",
       "      <td>6</td>\n",
       "      <td>1420</td>\n",
       "      <td>-89.053822</td>\n",
       "      <td>42.260884</td>\n",
       "      <td>PR</td>\n",
       "      <td>PROPERTY</td>\n",
       "      <td>A</td>\n",
       "      <td>RP09</td>\n",
       "      <td>10.0</td>\n",
       "    </tr>\n",
       "    <tr>\n",
       "      <th>200619</th>\n",
       "      <td>20-084777</td>\n",
       "      <td>290 - Destruction/Damage/Vandalism of Property</td>\n",
       "      <td>2020</td>\n",
       "      <td>6</td>\n",
       "      <td>1300</td>\n",
       "      <td>-89.053850</td>\n",
       "      <td>42.264499</td>\n",
       "      <td>PR</td>\n",
       "      <td>PROPERTY</td>\n",
       "      <td>A</td>\n",
       "      <td>RP09</td>\n",
       "      <td>10.0</td>\n",
       "    </tr>\n",
       "    <tr>\n",
       "      <th>200620</th>\n",
       "      <td>20-084777</td>\n",
       "      <td>23F - Theft From Motor Vehicle</td>\n",
       "      <td>2020</td>\n",
       "      <td>6</td>\n",
       "      <td>1300</td>\n",
       "      <td>-89.053850</td>\n",
       "      <td>42.264499</td>\n",
       "      <td>PR</td>\n",
       "      <td>PROPERTY</td>\n",
       "      <td>A</td>\n",
       "      <td>RP09</td>\n",
       "      <td>10.0</td>\n",
       "    </tr>\n",
       "    <tr>\n",
       "      <th>200621</th>\n",
       "      <td>20-084878</td>\n",
       "      <td>23C - Shoplifting</td>\n",
       "      <td>2020</td>\n",
       "      <td>0</td>\n",
       "      <td>1330</td>\n",
       "      <td>-88.973476</td>\n",
       "      <td>42.266605</td>\n",
       "      <td>NaN</td>\n",
       "      <td>NaN</td>\n",
       "      <td>NaN</td>\n",
       "      <td>NaN</td>\n",
       "      <td>NaN</td>\n",
       "    </tr>\n",
       "  </tbody>\n",
       "</table>\n",
       "<p>200622 rows × 12 columns</p>\n",
       "</div>"
      ],
      "text/plain": [
       "           CaseNo                                     Description  \\\n",
       "0       16-009615                        90C - Disorderly Conduct   \n",
       "1       16-014351                        90C - Disorderly Conduct   \n",
       "2       16-016247                            13B - Simple Assault   \n",
       "3       16-016181  290 - Destruction/Damage/Vandalism of Property   \n",
       "4       16-023111                         23H - All Other Larceny   \n",
       "...           ...                                             ...   \n",
       "200617  20-084708                                     200 - Arson   \n",
       "200618  20-084477                  23F - Theft From Motor Vehicle   \n",
       "200619  20-084777  290 - Destruction/Damage/Vandalism of Property   \n",
       "200620  20-084777                  23F - Theft From Motor Vehicle   \n",
       "200621  20-084878                               23C - Shoplifting   \n",
       "\n",
       "        Occurred Date  Occurred Day of Week  Occurred Time          X  \\\n",
       "0                2016                     1           1006 -89.124354   \n",
       "1                2016                     5           1906 -89.070417   \n",
       "2                2016                     2           1550 -89.042083   \n",
       "3                2016                     3           1138 -89.029085   \n",
       "4                2016                     6            100 -89.029201   \n",
       "...               ...                   ...            ...        ...   \n",
       "200617           2020                     0            109 -89.070647   \n",
       "200618           2020                     6           1420 -89.053822   \n",
       "200619           2020                     6           1300 -89.053850   \n",
       "200620           2020                     6           1300 -89.053850   \n",
       "200621           2020                     0           1330 -88.973476   \n",
       "\n",
       "                Y Crime Against Code Crime Against Group  Beat  Ward  \n",
       "0       42.284104                NaN           NaN   NaN   NaN   7.0  \n",
       "1       42.254735                NaN           NaN   NaN   NaN  11.0  \n",
       "2       42.238147                NaN           NaN   NaN   NaN   8.0  \n",
       "3       42.241433                NaN           NaN   NaN   NaN  14.0  \n",
       "4       42.211097                NaN           NaN   NaN   NaN  14.0  \n",
       "...           ...                ...           ...   ...   ...   ...  \n",
       "200617  42.253152                 PR      PROPERTY     A  RP06  11.0  \n",
       "200618  42.260884                 PR      PROPERTY     A  RP09  10.0  \n",
       "200619  42.264499                 PR      PROPERTY     A  RP09  10.0  \n",
       "200620  42.264499                 PR      PROPERTY     A  RP09  10.0  \n",
       "200621  42.266605                NaN           NaN   NaN   NaN   NaN  \n",
       "\n",
       "[200622 rows x 12 columns]"
      ]
     },
     "execution_count": 3,
     "metadata": {},
     "output_type": "execute_result"
    }
   ],
   "source": [
    "data = pd.read_csv('cm_offense_archive.csv')\n",
    "data['Occurred Date'] = data['Occurred Date'].astype(str).str[:-4].astype(np.int64)\n",
    "data"
   ]
  },
  {
   "cell_type": "code",
   "execution_count": 4,
   "metadata": {},
   "outputs": [
    {
     "data": {
      "text/plain": [
       "<AxesSubplot:xlabel='Occurred Day of Week', ylabel='counts'>"
      ]
     },
     "execution_count": 4,
     "metadata": {},
     "output_type": "execute_result"
    },
    {
     "data": {
      "image/png": "[encoded data removed]",
      "text/plain": [
       "<Figure size 432x288 with 1 Axes>"
      ]
     },
     "metadata": {
      "needs_background": "light"
     },
     "output_type": "display_data"
    }
   ],
   "source": [
    "Occurred_Each_day = data['Occurred Day of Week'].value_counts().sort_index()\n",
    "plt = Occurred_Each_day.plot(kind='bar',rot=0)\n",
    "plt.set_xlabel('Occurred Day of Week')\n",
    "plt.set_ylabel('counts')\n",
    "plt"
   ]
  },
  {
   "cell_type": "code",
   "execution_count": 5,
   "metadata": {},
   "outputs": [
    {
     "data": {
      "text/plain": [
       "Index(['CaseNo', 'Description', 'Occurred Date', 'Occurred Day of Week',\n",
       "       'Occurred Time', 'X', 'Y', 'Crime Against Code', 'Crime Against',\n",
       "       'Group', 'Beat', 'Ward'],\n",
       "      dtype='object')"
      ]
     },
     "execution_count": 5,
     "metadata": {},
     "output_type": "execute_result"
    }
   ],
   "source": [
    "data.columns"
   ]
  },
  {
   "cell_type": "code",
   "execution_count": 6,
   "metadata": {},
   "outputs": [],
   "source": [
    "def scatter(x, y, color_scaling, colormap='Blues'):\n",
    "    pyplot.figure(figsize=(10, 10), dpi=70)\n",
    "    pyplot.scatter(data[x], data[y], c=(data[color_scaling]), cmap=colormap)\n",
    "    pyplot.show()"
   ]
  },
  {
   "cell_type": "code",
   "execution_count": 7,
   "metadata": {},
   "outputs": [
    {
     "data": {
      "application/vnd.jupyter.widget-view+json": {
       "model_id": "f45d67747bef40e781c1cd3fb7f15df1",
       "version_major": 2,
       "version_minor": 0
      },
      "text/plain": [
       "interactive(children=(Dropdown(description='x', options=('X',), value='X'), Dropdown(description='y', options=…"
      ]
     },
     "metadata": {},
     "output_type": "display_data"
    },
    {
     "data": {
      "text/plain": [
       "<function __main__.scatter(x, y, color_scaling, colormap='Blues')>"
      ]
     },
     "execution_count": 7,
     "metadata": {},
     "output_type": "execute_result"
    }
   ],
   "source": [
    "interact(scatter, x=['X'],\n",
    "            y=['Y'],\n",
    "            color_scaling=['Occurred Day of Week'],\n",
    "            colormap=pyplot.colormaps())"
   ]
  },
  {
   "cell_type": "code",
   "execution_count": 8,
   "metadata": {},
   "outputs": [
    {
     "data": {
      "application/vnd.jupyter.widget-view+json": {
       "model_id": "d128433655ba4b98b0213fbc8f8b462c",
       "version_major": 2,
       "version_minor": 0
      },
      "text/plain": [
       "interactive(children=(IntSlider(value=3, description='Day', max=6), Output()), _dom_classes=('widget-interact'…"
      ]
     },
     "metadata": {},
     "output_type": "display_data"
    },
    {
     "data": {
      "text/plain": [
       "<function __main__.number_of_occurrences(Day)>"
      ]
     },
     "execution_count": 8,
     "metadata": {},
     "output_type": "execute_result"
    }
   ],
   "source": [
    "def number_of_occurrences(Day):\n",
    "    filtered_data = data[(data['Occurred Day of Week']==Day)]\n",
    "    Occurred_Each_year = filtered_data['Occurred Date'].value_counts().sort_index()\n",
    "    plt2 = Occurred_Each_year.plot(kind='line',rot=0)\n",
    "    plt2.set_xlabel('Year')\n",
    "    plt2.set_ylabel('counts')\n",
    "    plt2\n",
    "interact(number_of_occurrences, Day = (0,6))"
   ]
  },
  {
   "cell_type": "code",
   "execution_count": 9,
   "metadata": {},
   "outputs": [
    {
     "data": {
      "text/plain": [
       "<AxesSubplot:xlabel='Year', ylabel='counts'>"
      ]
     },
     "execution_count": 9,
     "metadata": {},
     "output_type": "execute_result"
    },
    {
     "data": {
      "image/png": "[encoded data removed]",
      "text/plain": [
       "<Figure size 432x288 with 1 Axes>"
      ]
     },
     "metadata": {
      "needs_background": "light"
     },
     "output_type": "display_data"
    }
   ],
   "source": [
    "Occurred_Each_year = data['Occurred Date'].value_counts().sort_index()\n",
    "plt3 = Occurred_Each_year.plot(kind='line',rot=0)\n",
    "plt3.set_xlabel('Year')\n",
    "plt3.set_ylabel('counts')\n",
    "plt3"
   ]
  },
  {
   "cell_type": "markdown",
   "metadata": {},
   "source": [
    "### Citations"
   ]
  },
  {
   "cell_type": "markdown",
   "metadata": {},
   "source": [
    "1. City of Rockford Crime Offenses 2011-Present. https://data.illinois.gov/dataset/116city_of_rockford_crime_offenses_2011present<br>\n",
    "2. Summary (SRS) Data with Estimated Crimes. http://s3-us-gov-west-1.amazonaws.com/cg-d4b776d0-d898-4153-90c8-8336f86bdfec/estimated_crimes_1979_2019.csv"
   ]
  }
 ],
 "metadata": {
  "kernelspec": {
   "display_name": "Python 3",
   "language": "python",
   "name": "python3"
  },
  "language_info": {
   "codemirror_mode": {
    "name": "ipython",
    "version": 3
   },
   "file_extension": ".py",
   "mimetype": "text/x-python",
   "name": "python",
   "nbconvert_exporter": "python",
   "pygments_lexer": "ipython3",
   "version": "3.8.3"
  }
 },
 "nbformat": 4,
 "nbformat_minor": 4
}
