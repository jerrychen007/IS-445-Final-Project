{
 "cells": [
  {
   "cell_type": "markdown",
   "metadata": {},
   "source": [
    "# IS 445 - Final Project: City of Rockford Crime Offenses Analysis"
   ]
  },
  {
   "cell_type": "code",
   "execution_count": 1,
   "metadata": {},
   "outputs": [],
   "source": [
    "%matplotlib inline"
   ]
  },
  {
   "cell_type": "code",
   "execution_count": 2,
   "metadata": {},
   "outputs": [],
   "source": [
    "import pandas as pd\n",
    "import matplotlib.pyplot as pyplot\n",
    "import plotly.graph_objs as go\n",
    "import numpy as np\n",
    "from ipywidgets import interact, interactive, fixed, interact_manual, widgets\n",
    "import seaborn as sns\n",
    "import traitlets\n",
    "import palettable\n",
    "import cufflinks as cf\n",
    "import warnings\n",
    "warnings.filterwarnings('ignore')"
   ]
  },
  {
   "cell_type": "code",
   "execution_count": 3,
   "metadata": {},
   "outputs": [
    {
     "data": {
      "text/html": [
       "<div>\n",
       "<style scoped>\n",
       "    .dataframe tbody tr th:only-of-type {\n",
       "        vertical-align: middle;\n",
       "    }\n",
       "\n",
       "    .dataframe tbody tr th {\n",
       "        vertical-align: top;\n",
       "    }\n",
       "\n",
       "    .dataframe thead th {\n",
       "        text-align: right;\n",
       "    }\n",
       "</style>\n",
       "<table border=\"1\" class=\"dataframe\">\n",
       "  <thead>\n",
       "    <tr style=\"text-align: right;\">\n",
       "      <th></th>\n",
       "      <th>CaseNo</th>\n",
       "      <th>Description</th>\n",
       "      <th>Occurred Date</th>\n",
       "      <th>Occurred Day of Week</th>\n",
       "      <th>Occurred Time</th>\n",
       "      <th>X</th>\n",
       "      <th>Y</th>\n",
       "      <th>Crime Against Code</th>\n",
       "      <th>Crime Against</th>\n",
       "      <th>Group</th>\n",
       "      <th>Beat</th>\n",
       "      <th>Ward</th>\n",
       "    </tr>\n",
       "  </thead>\n",
       "  <tbody>\n",
       "    <tr>\n",
       "      <th>0</th>\n",
       "      <td>16-009615</td>\n",
       "      <td>90C - Disorderly Conduct</td>\n",
       "      <td>2016</td>\n",
       "      <td>1</td>\n",
       "      <td>1006</td>\n",
       "      <td>-89.124354</td>\n",
       "      <td>42.284104</td>\n",
       "      <td>NaN</td>\n",
       "      <td>NaN</td>\n",
       "      <td>NaN</td>\n",
       "      <td>NaN</td>\n",
       "      <td>7.0</td>\n",
       "    </tr>\n",
       "    <tr>\n",
       "      <th>1</th>\n",
       "      <td>16-014351</td>\n",
       "      <td>90C - Disorderly Conduct</td>\n",
       "      <td>2016</td>\n",
       "      <td>5</td>\n",
       "      <td>1906</td>\n",
       "      <td>-89.070417</td>\n",
       "      <td>42.254735</td>\n",
       "      <td>NaN</td>\n",
       "      <td>NaN</td>\n",
       "      <td>NaN</td>\n",
       "      <td>NaN</td>\n",
       "      <td>11.0</td>\n",
       "    </tr>\n",
       "    <tr>\n",
       "      <th>2</th>\n",
       "      <td>16-016247</td>\n",
       "      <td>13B - Simple Assault</td>\n",
       "      <td>2016</td>\n",
       "      <td>2</td>\n",
       "      <td>1550</td>\n",
       "      <td>-89.042083</td>\n",
       "      <td>42.238147</td>\n",
       "      <td>NaN</td>\n",
       "      <td>NaN</td>\n",
       "      <td>NaN</td>\n",
       "      <td>NaN</td>\n",
       "      <td>8.0</td>\n",
       "    </tr>\n",
       "    <tr>\n",
       "      <th>3</th>\n",
       "      <td>16-016181</td>\n",
       "      <td>290 - Destruction/Damage/Vandalism of Property</td>\n",
       "      <td>2016</td>\n",
       "      <td>3</td>\n",
       "      <td>1138</td>\n",
       "      <td>-89.029085</td>\n",
       "      <td>42.241433</td>\n",
       "      <td>NaN</td>\n",
       "      <td>NaN</td>\n",
       "      <td>NaN</td>\n",
       "      <td>NaN</td>\n",
       "      <td>14.0</td>\n",
       "    </tr>\n",
       "    <tr>\n",
       "      <th>4</th>\n",
       "      <td>16-023111</td>\n",
       "      <td>23H - All Other Larceny</td>\n",
       "      <td>2016</td>\n",
       "      <td>6</td>\n",
       "      <td>100</td>\n",
       "      <td>-89.029201</td>\n",
       "      <td>42.211097</td>\n",
       "      <td>NaN</td>\n",
       "      <td>NaN</td>\n",
       "      <td>NaN</td>\n",
       "      <td>NaN</td>\n",
       "      <td>14.0</td>\n",
       "    </tr>\n",
       "    <tr>\n",
       "      <th>...</th>\n",
       "      <td>...</td>\n",
       "      <td>...</td>\n",
       "      <td>...</td>\n",
       "      <td>...</td>\n",
       "      <td>...</td>\n",
       "      <td>...</td>\n",
       "      <td>...</td>\n",
       "      <td>...</td>\n",
       "      <td>...</td>\n",
       "      <td>...</td>\n",
       "      <td>...</td>\n",
       "      <td>...</td>\n",
       "    </tr>\n",
       "    <tr>\n",
       "      <th>200617</th>\n",
       "      <td>20-084708</td>\n",
       "      <td>200 - Arson</td>\n",
       "      <td>2020</td>\n",
       "      <td>0</td>\n",
       "      <td>109</td>\n",
       "      <td>-89.070647</td>\n",
       "      <td>42.253152</td>\n",
       "      <td>PR</td>\n",
       "      <td>PROPERTY</td>\n",
       "      <td>A</td>\n",
       "      <td>RP06</td>\n",
       "      <td>11.0</td>\n",
       "    </tr>\n",
       "    <tr>\n",
       "      <th>200618</th>\n",
       "      <td>20-084477</td>\n",
       "      <td>23F - Theft From Motor Vehicle</td>\n",
       "      <td>2020</td>\n",
       "      <td>6</td>\n",
       "      <td>1420</td>\n",
       "      <td>-89.053822</td>\n",
       "      <td>42.260884</td>\n",
       "      <td>PR</td>\n",
       "      <td>PROPERTY</td>\n",
       "      <td>A</td>\n",
       "      <td>RP09</td>\n",
       "      <td>10.0</td>\n",
       "    </tr>\n",
       "    <tr>\n",
       "      <th>200619</th>\n",
       "      <td>20-084777</td>\n",
       "      <td>290 - Destruction/Damage/Vandalism of Property</td>\n",
       "      <td>2020</td>\n",
       "      <td>6</td>\n",
       "      <td>1300</td>\n",
       "      <td>-89.053850</td>\n",
       "      <td>42.264499</td>\n",
       "      <td>PR</td>\n",
       "      <td>PROPERTY</td>\n",
       "      <td>A</td>\n",
       "      <td>RP09</td>\n",
       "      <td>10.0</td>\n",
       "    </tr>\n",
       "    <tr>\n",
       "      <th>200620</th>\n",
       "      <td>20-084777</td>\n",
       "      <td>23F - Theft From Motor Vehicle</td>\n",
       "      <td>2020</td>\n",
       "      <td>6</td>\n",
       "      <td>1300</td>\n",
       "      <td>-89.053850</td>\n",
       "      <td>42.264499</td>\n",
       "      <td>PR</td>\n",
       "      <td>PROPERTY</td>\n",
       "      <td>A</td>\n",
       "      <td>RP09</td>\n",
       "      <td>10.0</td>\n",
       "    </tr>\n",
       "    <tr>\n",
       "      <th>200621</th>\n",
       "      <td>20-084878</td>\n",
       "      <td>23C - Shoplifting</td>\n",
       "      <td>2020</td>\n",
       "      <td>0</td>\n",
       "      <td>1330</td>\n",
       "      <td>-88.973476</td>\n",
       "      <td>42.266605</td>\n",
       "      <td>NaN</td>\n",
       "      <td>NaN</td>\n",
       "      <td>NaN</td>\n",
       "      <td>NaN</td>\n",
       "      <td>NaN</td>\n",
       "    </tr>\n",
       "  </tbody>\n",
       "</table>\n",
       "<p>200622 rows × 12 columns</p>\n",
       "</div>"
      ],
      "text/plain": [
       "           CaseNo                                     Description  \\\n",
       "0       16-009615                        90C - Disorderly Conduct   \n",
       "1       16-014351                        90C - Disorderly Conduct   \n",
       "2       16-016247                            13B - Simple Assault   \n",
       "3       16-016181  290 - Destruction/Damage/Vandalism of Property   \n",
       "4       16-023111                         23H - All Other Larceny   \n",
       "...           ...                                             ...   \n",
       "200617  20-084708                                     200 - Arson   \n",
       "200618  20-084477                  23F - Theft From Motor Vehicle   \n",
       "200619  20-084777  290 - Destruction/Damage/Vandalism of Property   \n",
       "200620  20-084777                  23F - Theft From Motor Vehicle   \n",
       "200621  20-084878                               23C - Shoplifting   \n",
       "\n",
       "        Occurred Date  Occurred Day of Week  Occurred Time          X  \\\n",
       "0                2016                     1           1006 -89.124354   \n",
       "1                2016                     5           1906 -89.070417   \n",
       "2                2016                     2           1550 -89.042083   \n",
       "3                2016                     3           1138 -89.029085   \n",
       "4                2016                     6            100 -89.029201   \n",
       "...               ...                   ...            ...        ...   \n",
       "200617           2020                     0            109 -89.070647   \n",
       "200618           2020                     6           1420 -89.053822   \n",
       "200619           2020                     6           1300 -89.053850   \n",
       "200620           2020                     6           1300 -89.053850   \n",
       "200621           2020                     0           1330 -88.973476   \n",
       "\n",
       "                Y Crime Against Code Crime Against Group  Beat  Ward  \n",
       "0       42.284104                NaN           NaN   NaN   NaN   7.0  \n",
       "1       42.254735                NaN           NaN   NaN   NaN  11.0  \n",
       "2       42.238147                NaN           NaN   NaN   NaN   8.0  \n",
       "3       42.241433                NaN           NaN   NaN   NaN  14.0  \n",
       "4       42.211097                NaN           NaN   NaN   NaN  14.0  \n",
       "...           ...                ...           ...   ...   ...   ...  \n",
       "200617  42.253152                 PR      PROPERTY     A  RP06  11.0  \n",
       "200618  42.260884                 PR      PROPERTY     A  RP09  10.0  \n",
       "200619  42.264499                 PR      PROPERTY     A  RP09  10.0  \n",
       "200620  42.264499                 PR      PROPERTY     A  RP09  10.0  \n",
       "200621  42.266605                NaN           NaN   NaN   NaN   NaN  \n",
       "\n",
       "[200622 rows x 12 columns]"
      ]
     },
     "execution_count": 3,
     "metadata": {},
     "output_type": "execute_result"
    }
   ],
   "source": [
    "data = pd.read_csv('cm_offense_archive.csv')\n",
    "data['Occurred Date'] = data['Occurred Date'].astype(str).str[:-4].astype(np.int64)\n",
    "data"
   ]
  },
  {
   "cell_type": "code",
   "execution_count": 4,
   "metadata": {},
   "outputs": [
    {
     "data": {
      "text/plain": [
       "<AxesSubplot:xlabel='Occurred Day of Week', ylabel='counts'>"
      ]
     },
     "execution_count": 4,
     "metadata": {},
     "output_type": "execute_result"
    },
    {
     "data": {
      "image/png": "[encoded data removed]",
      "text/plain": [
       "<Figure size 432x288 with 1 Axes>"
      ]
     },
     "metadata": {
      "needs_background": "light"
     },
     "output_type": "display_data"
    }
   ],
   "source": [
    "Occurred_Each_day = data['Occurred Day of Week'].value_counts().sort_index()\n",
    "plt = Occurred_Each_day.plot(kind='bar',rot=0)\n",
    "plt.set_xlabel('Occurred Day of Week')\n",
    "plt.set_ylabel('counts')\n",
    "plt"
   ]
  },
  {
   "cell_type": "code",
   "execution_count": 5,
   "metadata": {},
   "outputs": [
    {
     "data": {
      "text/plain": [
       "Index(['CaseNo', 'Description', 'Occurred Date', 'Occurred Day of Week',\n",
       "       'Occurred Time', 'X', 'Y', 'Crime Against Code', 'Crime Against',\n",
       "       'Group', 'Beat', 'Ward'],\n",
       "      dtype='object')"
      ]
     },
     "execution_count": 5,
     "metadata": {},
     "output_type": "execute_result"
    }
   ],
   "source": [
    "data.columns"
   ]
  },
  {
   "cell_type": "code",
   "execution_count": 6,
   "metadata": {},
   "outputs": [],
   "source": [
    "def scatter(x, y, color_scaling, colormap='Blues'):\n",
    "    pyplot.figure(figsize=(10, 10), dpi=70)\n",
    "    pyplot.scatter(data[x], data[y], c=(data[color_scaling]), cmap=colormap)\n",
    "    pyplot.show()"
   ]
  },
  {
   "cell_type": "code",
   "execution_count": 7,
   "metadata": {},
   "outputs": [
    {
     "data": {
      "application/vnd.jupyter.widget-view+json": {
       "model_id": "dc6d5580b1b44fdca1535585ebce5bb7",
       "version_major": 2,
       "version_minor": 0
      },
      "text/plain": [
       "interactive(children=(Dropdown(description='x', options=('X',), value='X'), Dropdown(description='y', options=…"
      ]
     },
     "metadata": {},
     "output_type": "display_data"
    },
    {
     "data": {
      "text/plain": [
       "<function __main__.scatter(x, y, color_scaling, colormap='Blues')>"
      ]
     },
     "execution_count": 7,
     "metadata": {},
     "output_type": "execute_result"
    }
   ],
   "source": [
    "interact(scatter, x=['X'],\n",
    "            y=['Y'],\n",
    "            color_scaling=['Occurred Day of Week'],\n",
    "            colormap=pyplot.colormaps())"
   ]
  },
  {
   "cell_type": "code",
   "execution_count": 8,
   "metadata": {},
   "outputs": [
    {
     "data": {
      "application/vnd.jupyter.widget-view+json": {
       "model_id": "e1b766185b5b4c29a39d52220ec2834e",
       "version_major": 2,
       "version_minor": 0
      },
      "text/plain": [
       "interactive(children=(IntSlider(value=3, description='Day', max=6), Output()), _dom_classes=('widget-interact'…"
      ]
     },
     "metadata": {},
     "output_type": "display_data"
    },
    {
     "data": {
      "text/plain": [
       "<function __main__.number_of_occurrences(Day)>"
      ]
     },
     "execution_count": 8,
     "metadata": {},
     "output_type": "execute_result"
    }
   ],
   "source": [
    "def number_of_occurrences(Day):\n",
    "    filtered_data = data[(data['Occurred Day of Week']==Day)]\n",
    "    Occurred_Each_year = filtered_data['Occurred Date'].value_counts().sort_index()\n",
    "    plt2 = Occurred_Each_year.plot(kind='line',rot=0)\n",
    "    plt2.set_xlabel('Year')\n",
    "    plt2.set_ylabel('counts')\n",
    "    plt2\n",
    "interact(number_of_occurrences, Day = (0,6))"
   ]
  },
  {
   "cell_type": "code",
   "execution_count": 9,
   "metadata": {},
   "outputs": [
    {
     "data": {
      "text/plain": [
       "<AxesSubplot:xlabel='Year', ylabel='counts'>"
      ]
     },
     "execution_count": 9,
     "metadata": {},
     "output_type": "execute_result"
    },
    {
     "data": {
      "image/png": "[encoded data removed]",
      "text/plain": [
       "<Figure size 432x288 with 1 Axes>"
      ]
     },
     "metadata": {
      "needs_background": "light"
     },
     "output_type": "display_data"
    }
   ],
   "source": [
    "Occurred_Each_year = data['Occurred Date'].value_counts().sort_index()\n",
    "plt3 = Occurred_Each_year.plot(kind='line',rot=0)\n",
    "plt3.set_xlabel('Year')\n",
    "plt3.set_ylabel('counts')\n",
    "plt3"
   ]
  },
  {
   "cell_type": "code",
   "execution_count": 10,
   "metadata": {},
   "outputs": [
    {
     "data": {
      "text/html": [
       "<div>\n",
       "<style scoped>\n",
       "    .dataframe tbody tr th:only-of-type {\n",
       "        vertical-align: middle;\n",
       "    }\n",
       "\n",
       "    .dataframe tbody tr th {\n",
       "        vertical-align: top;\n",
       "    }\n",
       "\n",
       "    .dataframe thead th {\n",
       "        text-align: right;\n",
       "    }\n",
       "</style>\n",
       "<table border=\"1\" class=\"dataframe\">\n",
       "  <thead>\n",
       "    <tr style=\"text-align: right;\">\n",
       "      <th></th>\n",
       "      <th>year</th>\n",
       "      <th>state_abbr</th>\n",
       "      <th>state_name</th>\n",
       "      <th>population</th>\n",
       "      <th>violent_crime</th>\n",
       "      <th>homicide</th>\n",
       "      <th>rape_legacy</th>\n",
       "      <th>rape_revised</th>\n",
       "      <th>robbery</th>\n",
       "      <th>aggravated_assault</th>\n",
       "      <th>property_crime</th>\n",
       "      <th>burglary</th>\n",
       "      <th>larceny</th>\n",
       "      <th>motor_vehicle_theft</th>\n",
       "    </tr>\n",
       "  </thead>\n",
       "  <tbody>\n",
       "    <tr>\n",
       "      <th>0</th>\n",
       "      <td>2011</td>\n",
       "      <td>United States</td>\n",
       "      <td>NaN</td>\n",
       "      <td>311587816</td>\n",
       "      <td>1206031</td>\n",
       "      <td>14661</td>\n",
       "      <td>84175.0</td>\n",
       "      <td>NaN</td>\n",
       "      <td>354772</td>\n",
       "      <td>752423</td>\n",
       "      <td>9052743</td>\n",
       "      <td>2185140</td>\n",
       "      <td>6151095</td>\n",
       "      <td>716508</td>\n",
       "    </tr>\n",
       "    <tr>\n",
       "      <th>1</th>\n",
       "      <td>2011</td>\n",
       "      <td>AK</td>\n",
       "      <td>Alaska</td>\n",
       "      <td>723860</td>\n",
       "      <td>4416</td>\n",
       "      <td>30</td>\n",
       "      <td>436.0</td>\n",
       "      <td>NaN</td>\n",
       "      <td>576</td>\n",
       "      <td>3374</td>\n",
       "      <td>19094</td>\n",
       "      <td>2852</td>\n",
       "      <td>14854</td>\n",
       "      <td>1388</td>\n",
       "    </tr>\n",
       "    <tr>\n",
       "      <th>2</th>\n",
       "      <td>2011</td>\n",
       "      <td>AL</td>\n",
       "      <td>Alabama</td>\n",
       "      <td>4803689</td>\n",
       "      <td>20166</td>\n",
       "      <td>299</td>\n",
       "      <td>1370.0</td>\n",
       "      <td>NaN</td>\n",
       "      <td>4906</td>\n",
       "      <td>13591</td>\n",
       "      <td>173192</td>\n",
       "      <td>51119</td>\n",
       "      <td>111411</td>\n",
       "      <td>10662</td>\n",
       "    </tr>\n",
       "    <tr>\n",
       "      <th>3</th>\n",
       "      <td>2011</td>\n",
       "      <td>AR</td>\n",
       "      <td>Arkansas</td>\n",
       "      <td>2938582</td>\n",
       "      <td>14173</td>\n",
       "      <td>160</td>\n",
       "      <td>1230.0</td>\n",
       "      <td>NaN</td>\n",
       "      <td>2357</td>\n",
       "      <td>10426</td>\n",
       "      <td>110430</td>\n",
       "      <td>34016</td>\n",
       "      <td>70645</td>\n",
       "      <td>5769</td>\n",
       "    </tr>\n",
       "    <tr>\n",
       "      <th>4</th>\n",
       "      <td>2011</td>\n",
       "      <td>AZ</td>\n",
       "      <td>Arizona</td>\n",
       "      <td>6467315</td>\n",
       "      <td>26789</td>\n",
       "      <td>397</td>\n",
       "      <td>2499.0</td>\n",
       "      <td>NaN</td>\n",
       "      <td>7145</td>\n",
       "      <td>16748</td>\n",
       "      <td>229896</td>\n",
       "      <td>54695</td>\n",
       "      <td>155400</td>\n",
       "      <td>19801</td>\n",
       "    </tr>\n",
       "    <tr>\n",
       "      <th>...</th>\n",
       "      <td>...</td>\n",
       "      <td>...</td>\n",
       "      <td>...</td>\n",
       "      <td>...</td>\n",
       "      <td>...</td>\n",
       "      <td>...</td>\n",
       "      <td>...</td>\n",
       "      <td>...</td>\n",
       "      <td>...</td>\n",
       "      <td>...</td>\n",
       "      <td>...</td>\n",
       "      <td>...</td>\n",
       "      <td>...</td>\n",
       "      <td>...</td>\n",
       "    </tr>\n",
       "    <tr>\n",
       "      <th>463</th>\n",
       "      <td>2019</td>\n",
       "      <td>WA</td>\n",
       "      <td>Washington</td>\n",
       "      <td>7614893</td>\n",
       "      <td>22377</td>\n",
       "      <td>198</td>\n",
       "      <td>NaN</td>\n",
       "      <td>3332.0</td>\n",
       "      <td>5147</td>\n",
       "      <td>13700</td>\n",
       "      <td>204224</td>\n",
       "      <td>34540</td>\n",
       "      <td>145282</td>\n",
       "      <td>24402</td>\n",
       "    </tr>\n",
       "    <tr>\n",
       "      <th>464</th>\n",
       "      <td>2019</td>\n",
       "      <td>WI</td>\n",
       "      <td>Wisconsin</td>\n",
       "      <td>5822434</td>\n",
       "      <td>17070</td>\n",
       "      <td>175</td>\n",
       "      <td>NaN</td>\n",
       "      <td>2261.0</td>\n",
       "      <td>2991</td>\n",
       "      <td>11643</td>\n",
       "      <td>85672</td>\n",
       "      <td>12667</td>\n",
       "      <td>65620</td>\n",
       "      <td>7385</td>\n",
       "    </tr>\n",
       "    <tr>\n",
       "      <th>465</th>\n",
       "      <td>2019</td>\n",
       "      <td>WV</td>\n",
       "      <td>West Virginia</td>\n",
       "      <td>1792147</td>\n",
       "      <td>5674</td>\n",
       "      <td>78</td>\n",
       "      <td>NaN</td>\n",
       "      <td>754.0</td>\n",
       "      <td>378</td>\n",
       "      <td>4464</td>\n",
       "      <td>28376</td>\n",
       "      <td>5891</td>\n",
       "      <td>20066</td>\n",
       "      <td>2419</td>\n",
       "    </tr>\n",
       "    <tr>\n",
       "      <th>466</th>\n",
       "      <td>2019</td>\n",
       "      <td>WY</td>\n",
       "      <td>Wyoming</td>\n",
       "      <td>578759</td>\n",
       "      <td>1258</td>\n",
       "      <td>13</td>\n",
       "      <td>NaN</td>\n",
       "      <td>324.0</td>\n",
       "      <td>67</td>\n",
       "      <td>854</td>\n",
       "      <td>9093</td>\n",
       "      <td>1396</td>\n",
       "      <td>6984</td>\n",
       "      <td>713</td>\n",
       "    </tr>\n",
       "    <tr>\n",
       "      <th>467</th>\n",
       "      <td>2019</td>\n",
       "      <td>United States</td>\n",
       "      <td>NaN</td>\n",
       "      <td>328239523</td>\n",
       "      <td>1245410</td>\n",
       "      <td>16425</td>\n",
       "      <td>NaN</td>\n",
       "      <td>139815.0</td>\n",
       "      <td>267988</td>\n",
       "      <td>821182</td>\n",
       "      <td>6925677</td>\n",
       "      <td>1117696</td>\n",
       "      <td>5086096</td>\n",
       "      <td>721885</td>\n",
       "    </tr>\n",
       "  </tbody>\n",
       "</table>\n",
       "<p>468 rows × 14 columns</p>\n",
       "</div>"
      ],
      "text/plain": [
       "     year     state_abbr     state_name  population  violent_crime  homicide  \\\n",
       "0    2011  United States            NaN   311587816        1206031     14661   \n",
       "1    2011             AK         Alaska      723860           4416        30   \n",
       "2    2011             AL        Alabama     4803689          20166       299   \n",
       "3    2011             AR       Arkansas     2938582          14173       160   \n",
       "4    2011             AZ        Arizona     6467315          26789       397   \n",
       "..    ...            ...            ...         ...            ...       ...   \n",
       "463  2019             WA     Washington     7614893          22377       198   \n",
       "464  2019             WI      Wisconsin     5822434          17070       175   \n",
       "465  2019             WV  West Virginia     1792147           5674        78   \n",
       "466  2019             WY        Wyoming      578759           1258        13   \n",
       "467  2019  United States            NaN   328239523        1245410     16425   \n",
       "\n",
       "     rape_legacy  rape_revised  robbery  aggravated_assault  property_crime  \\\n",
       "0        84175.0           NaN   354772              752423         9052743   \n",
       "1          436.0           NaN      576                3374           19094   \n",
       "2         1370.0           NaN     4906               13591          173192   \n",
       "3         1230.0           NaN     2357               10426          110430   \n",
       "4         2499.0           NaN     7145               16748          229896   \n",
       "..           ...           ...      ...                 ...             ...   \n",
       "463          NaN        3332.0     5147               13700          204224   \n",
       "464          NaN        2261.0     2991               11643           85672   \n",
       "465          NaN         754.0      378                4464           28376   \n",
       "466          NaN         324.0       67                 854            9093   \n",
       "467          NaN      139815.0   267988              821182         6925677   \n",
       "\n",
       "     burglary  larceny  motor_vehicle_theft  \n",
       "0     2185140  6151095               716508  \n",
       "1        2852    14854                 1388  \n",
       "2       51119   111411                10662  \n",
       "3       34016    70645                 5769  \n",
       "4       54695   155400                19801  \n",
       "..        ...      ...                  ...  \n",
       "463     34540   145282                24402  \n",
       "464     12667    65620                 7385  \n",
       "465      5891    20066                 2419  \n",
       "466      1396     6984                  713  \n",
       "467   1117696  5086096               721885  \n",
       "\n",
       "[468 rows x 14 columns]"
      ]
     },
     "execution_count": 10,
     "metadata": {},
     "output_type": "execute_result"
    }
   ],
   "source": [
    "states_crime = pd.read_csv('estimated_crimes_1979_2019.csv')\n",
    "states_crime[['state_abbr']] = states_crime[['state_abbr']].fillna(value='United States')\n",
    "states_crime"
   ]
  },
  {
   "cell_type": "code",
   "execution_count": 11,
   "metadata": {},
   "outputs": [
    {
     "data": {
      "application/vnd.jupyter.widget-view+json": {
       "model_id": "9b16b13356db4d3e9c97d6abccb279fb",
       "version_major": 2,
       "version_minor": 0
      },
      "text/plain": [
       "Dropdown(description='State name', index=32, options=('AL', 'AK', 'AZ', 'AR', 'CA', 'CO', 'CT', 'DC', 'DE', 'F…"
      ]
     },
     "metadata": {},
     "output_type": "display_data"
    },
    {
     "data": {
      "image/png": "[encoded data removed]",
      "text/plain": [
       "<Figure size 432x288 with 1 Axes>"
      ]
     },
     "metadata": {
      "needs_background": "light"
     },
     "output_type": "display_data"
    }
   ],
   "source": [
    "from IPython.display import display, clear_output\n",
    "def violent_crime_rate(value):\n",
    "    state_crime = states_crime.loc[states_crime['state_abbr']== value]\n",
    "    state_crime['violent_crime_rate'] = state_crime['violent_crime']/state_crime['population']*100\n",
    "    plt4 = state_crime.plot.line(x='year', y='violent_crime_rate')\n",
    "    plt4.set_xlabel('Year')\n",
    "    plt4.set_ylabel('Violent crime rate %')\n",
    "    plt4\n",
    "    \n",
    "default = 'United States'\n",
    "violent_crime_rate(default)\n",
    "\n",
    "w = widgets.Dropdown(\n",
    "    options=[\"AL\", \"AK\", \"AZ\", \"AR\", \"CA\", \"CO\", \"CT\", \"DC\", \"DE\", \"FL\", \"GA\", \n",
    "          \"HI\", \"ID\", \"IL\", \"IN\", \"IA\", \"KS\", \"KY\", \"LA\", \"ME\", \"MD\", \n",
    "          \"MA\", \"MI\", \"MN\", \"MS\", \"MO\", \"MT\", \"NE\", \"NV\", \"NH\", \"NJ\", \n",
    "          \"NM\", \"NY\", \"NC\", \"ND\", \"OH\", \"OK\", \"OR\", \"PA\", \"RI\", \"SC\", \n",
    "          \"SD\", \"TN\", \"TX\", \"UT\", \"VT\", \"VA\", \"WA\", \"WV\", \"WI\", \"WY\",\"United States\"],\n",
    "    value = default,\n",
    "    description='State name',\n",
    ")\n",
    "\n",
    "display(w)\n",
    "\n",
    "def on_change(change):\n",
    "    if change['type'] == 'change' and change['name'] == 'value':\n",
    "        clear_output()\n",
    "        display(w)\n",
    "        violent_crime_rate(change['new'])\n",
    "\n",
    "w.observe(on_change)"
   ]
  },
  {
   "cell_type": "markdown",
   "metadata": {},
   "source": [
    "### Citations"
   ]
  },
  {
   "cell_type": "markdown",
   "metadata": {},
   "source": [
    "1. City of Rockford Crime Offenses 2011-Present. https://data.illinois.gov/dataset/116city_of_rockford_crime_offenses_2011present<br>\n",
    "2. Summary (SRS) Data with Estimated Crimes. http://s3-us-gov-west-1.amazonaws.com/cg-d4b776d0-d898-4153-90c8-8336f86bdfec/estimated_crimes_1979_2019.csv"
   ]
  }
 ],
 "metadata": {
  "kernelspec": {
   "display_name": "Python 3",
   "language": "python",
   "name": "python3"
  },
  "language_info": {
   "codemirror_mode": {
    "name": "ipython",
    "version": 3
   },
   "file_extension": ".py",
   "mimetype": "text/x-python",
   "name": "python",
   "nbconvert_exporter": "python",
   "pygments_lexer": "ipython3",
   "version": "3.8.3"
  }
 },
 "nbformat": 4,
 "nbformat_minor": 4
}
